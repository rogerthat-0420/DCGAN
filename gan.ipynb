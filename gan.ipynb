{
 "cells": [
  {
   "cell_type": "code",
   "execution_count": null,
   "metadata": {},
   "outputs": [],
   "source": [
    "from torch import nn\n",
    "from torchsummary import summary\n",
    "from torchvision.utils import make_grid\n",
    "from torch.utils.data import DataLoader\n",
    "from torchvision import datasets, transforms as T\n",
    "import torch\n",
    "import matplotlib.pyplot as plt\n",
    "from tqdm import tqdm"
   ]
  },
  {
   "cell_type": "code",
   "execution_count": null,
   "metadata": {},
   "outputs": [],
   "source": [
    "device = 'cuda'\n",
    "batch_size = 128\n",
    "noise_dim = 64\n",
    "\n",
    "lr = 0.0002\n",
    "beta_1 = 0.5\n",
    "beta_2 = 0.99\n",
    "\n",
    "epochs = 20"
   ]
  },
  {
   "cell_type": "code",
   "execution_count": null,
   "metadata": {},
   "outputs": [],
   "source": [
    "train_augs = T.Compose([\n",
    "    T.RandomRotation((-20, +20)),\n",
    "    T.ToTensor()  # (h, w, c) -> (c, h, w)\n",
    "])\n",
    "trainset = datasets.MNIST(\"MNIST/\", download=True,\n",
    "                          train=True, transform=train_augs)\n"
   ]
  },
  {
   "cell_type": "code",
   "execution_count": null,
   "metadata": {},
   "outputs": [],
   "source": [
    "trainloader = DataLoader(trainset, batch_size=batch_size, shuffle=True)\n",
    "print(f\"number of batches = {len(trainloader)}\")\n",
    "\n",
    "dataiter = iter(trainloader)\n",
    "images, _ = dataiter._next_data()\n",
    "print(images.shape)"
   ]
  },
  {
   "cell_type": "code",
   "execution_count": null,
   "metadata": {},
   "outputs": [],
   "source": [
    "def show_tensor_images(tensor_img, num_images=16, size=(1, 28, 28)):\n",
    "    unflat_img = tensor_img.detach().cpu()\n",
    "    img_grid = make_grid(unflat_img[:num_images], nrow=4)\n",
    "    plt.imshow(img_grid.permute(1, 2, 0).squeeze())\n",
    "    plt.show()"
   ]
  },
  {
   "cell_type": "code",
   "execution_count": null,
   "metadata": {},
   "outputs": [],
   "source": [
    "show_tensor_images(images,num_images=16)"
   ]
  },
  {
   "cell_type": "markdown",
   "metadata": {},
   "source": [
    "## Discriminator"
   ]
  },
  {
   "cell_type": "code",
   "execution_count": null,
   "metadata": {},
   "outputs": [],
   "source": [
    "\n",
    "def get_disc_block(in_channels, out_channels, kernel_size, stride):\n",
    "    return nn.Sequential(\n",
    "        nn.Conv2d(in_channels, out_channels, kernel_size, stride),\n",
    "        nn.BatchNorm2d(out_channels),\n",
    "        nn.LeakyReLU(0.2)\n",
    "    )\n",
    "\n"
   ]
  },
  {
   "cell_type": "code",
   "execution_count": null,
   "metadata": {},
   "outputs": [],
   "source": [
    "class Discriminator(nn.Module):\n",
    "\n",
    "    def __init__(self):\n",
    "        super(Discriminator, self).__init__()\n",
    "        self.block_1 = get_disc_block(1, 16, (3, 3), 2)\n",
    "        self.block_2 = get_disc_block(16, 32, (5, 5), 2)\n",
    "        self.block_3 = get_disc_block(32, 64, (5, 5), 2)\n",
    "\n",
    "        self.flatten = nn.Flatten()\n",
    "        self.linear = nn.Linear(in_features=64, out_features=1)\n",
    "\n",
    "    def forward(self, images):\n",
    "        x1 = self.block_1(images)\n",
    "        x2 = self.block_2(x1)\n",
    "        x3 = self.block_3(x2)\n",
    "\n",
    "        x4 = self.flatten(x3)\n",
    "        x5 = self.linear(x4)\n",
    "\n",
    "        return x5"
   ]
  },
  {
   "cell_type": "code",
   "execution_count": null,
   "metadata": {},
   "outputs": [],
   "source": [
    "D = Discriminator()\n",
    "# D.to(device=device)\n",
    "\n",
    "summary(D, input_size=(1, 28, 28))"
   ]
  },
  {
   "cell_type": "markdown",
   "metadata": {},
   "source": [
    "## Generator"
   ]
  },
  {
   "cell_type": "code",
   "execution_count": null,
   "metadata": {},
   "outputs": [],
   "source": [
    "def get_gen_block(in_channels, out_channels, kernel_size, stride, final_block=False):\n",
    "    if final_block == True:\n",
    "        return nn.Sequential(\n",
    "            nn.ConvTranspose2d(in_channels, out_channels, kernel_size, stride),\n",
    "            nn.Tanh()\n",
    "        )\n",
    "    return nn.Sequential(\n",
    "        nn.ConvTranspose2d(in_channels, out_channels, kernel_size, stride),\n",
    "        nn.BatchNorm2d(out_channels),\n",
    "        nn.ReLU()\n",
    "    )"
   ]
  },
  {
   "cell_type": "code",
   "execution_count": null,
   "metadata": {},
   "outputs": [],
   "source": [
    "\n",
    "class Generator(nn.Module):\n",
    "\n",
    "    def __init__(self, noise_dim):\n",
    "        super(Generator, self).__init__()\n",
    "\n",
    "        self.noise_dim = noise_dim\n",
    "        self.block_1 = get_gen_block(noise_dim, 256, (3, 3), 2)\n",
    "        self.block_2 = get_gen_block(256, 128, (4, 4), 1)\n",
    "        self.block_3 = get_gen_block(128, 64, (3, 3), 2)\n",
    "\n",
    "        self.block_4 = get_gen_block(64, 1, (4, 4), 2, final_block=True)\n",
    "\n",
    "    def forward(self, r_noise_vec):\n",
    "        # (batch_size, noise_dim) -> (batch_size, noise_dim, 1, 1)\n",
    "        x = r_noise_vec.view(-1, self.noise_dim, 1, 1)\n",
    "\n",
    "        x1 = self.block_1(x)\n",
    "        x2 = self.block_2(x1)\n",
    "        x3 = self.block_3(x2)\n",
    "        x4 = self.block_4(x3)\n",
    "\n",
    "        return x4\n"
   ]
  },
  {
   "cell_type": "code",
   "execution_count": null,
   "metadata": {},
   "outputs": [],
   "source": [
    "G = Generator(noise_dim)\n",
    "# G.to(device)\n",
    "\n",
    "summary(G, input_size=(1, noise_dim))"
   ]
  },
  {
   "cell_type": "code",
   "execution_count": null,
   "metadata": {},
   "outputs": [],
   "source": [
    "def weights_init(m):\n",
    "    if isinstance(m, nn.Conv2d) or isinstance(m, nn.ConvTranspose2d):\n",
    "        nn.init.normal_(m.weight, 0.0, 0.02)\n",
    "    if isinstance(m, nn.BatchNorm2d):\n",
    "        nn.init.normal_(m.weight, 0.0, 0.02)\n",
    "        nn.init.constant_(m.bias, 0)\n",
    "\n",
    "\n",
    "D = D.apply(weights_init)\n",
    "G = G.apply(weights_init)"
   ]
  },
  {
   "cell_type": "code",
   "execution_count": null,
   "metadata": {},
   "outputs": [],
   "source": [
    "\n",
    "def real_loss(disc_pred):\n",
    "    criterion = nn.BCEWithLogitsLoss()\n",
    "    ground_truth = torch.ones_like(disc_pred)\n",
    "    loss = criterion(disc_pred, ground_truth)\n",
    "    return loss\n",
    "\n",
    "\n",
    "def fake_loss(disc_pred):\n",
    "    criterion = nn.BCEWithLogitsLoss()\n",
    "    ground_truth = torch.zeros_like(disc_pred)\n",
    "    loss = criterion(disc_pred, ground_truth)\n",
    "    return loss\n"
   ]
  },
  {
   "cell_type": "code",
   "execution_count": null,
   "metadata": {},
   "outputs": [],
   "source": [
    "D_opt = torch.optim.Adam(D.parameters(), lr=lr, betas=(beta_1, beta_2))\n",
    "G_opt = torch.optim.Adam(G.parameters(), lr=lr, betas=(beta_1, beta_2))"
   ]
  },
  {
   "cell_type": "markdown",
   "metadata": {},
   "source": [
    "## Training Loop"
   ]
  },
  {
   "cell_type": "code",
   "execution_count": null,
   "metadata": {},
   "outputs": [],
   "source": [
    "for i in range(epochs):\n",
    "\n",
    "    total_d_loss = 0.0\n",
    "    total_g_loss = 0.0\n",
    "\n",
    "    for real_img, _ in tqdm(trainloader):\n",
    "        # real_img = real_img.to(device)\n",
    "        noise = torch.randn(batch_size, noise_dim)\n",
    "\n",
    "        # find loss and update weights for D\n",
    "        D_opt.zero_grad()\n",
    "        fake_img = G(noise)\n",
    "\n",
    "        D_pred = D(fake_img)\n",
    "        D_fake_loss = fake_loss(D_pred)\n",
    "\n",
    "        D_pred = D(real_img)\n",
    "        D_real_loss = real_loss(D_pred)\n",
    "\n",
    "        D_loss = (D_fake_loss + D_real_loss)/2\n",
    "        total_d_loss += D_loss.item()\n",
    "\n",
    "        D_loss.backward()\n",
    "        D_opt.step()\n",
    "\n",
    "        # find loss and update weights for G\n",
    "        G_opt.zero_grad()\n",
    "        noise = torch.randn(batch_size, noise_dim)\n",
    "\n",
    "        fake_img = G(noise)\n",
    "        D_pred = D(fake_img)\n",
    "\n",
    "        G_loss = real_loss(D_pred)\n",
    "        total_g_loss += G_loss.item()\n",
    "\n",
    "        G_loss.backward()\n",
    "        G_opt.step()\n",
    "\n",
    "    print(f\"total_d_loss = {total_d_loss}\")\n",
    "    print(f\"total_g_loss = {total_g_loss}\")\n",
    "    avg_d_loss = total_d_loss / len(trainloader)\n",
    "    avg_g_loss = total_g_loss / len(trainloader)\n",
    "\n",
    "    print(f\"Epoch : {i + 1} | D_loss : {avg_d_loss} | G_loss = {avg_g_loss}\")\n",
    "    show_tensor_images(fake_img)\n"
   ]
  }
 ],
 "metadata": {
  "kernelspec": {
   "display_name": "Python 3",
   "language": "python",
   "name": "python3"
  },
  "language_info": {
   "codemirror_mode": {
    "name": "ipython",
    "version": 3
   },
   "file_extension": ".py",
   "mimetype": "text/x-python",
   "name": "python",
   "nbconvert_exporter": "python",
   "pygments_lexer": "ipython3",
   "version": "3.10.12"
  }
 },
 "nbformat": 4,
 "nbformat_minor": 2
}
